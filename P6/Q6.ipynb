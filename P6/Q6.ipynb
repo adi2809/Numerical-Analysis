{
 "cells": [
  {
   "cell_type": "markdown",
   "metadata": {},
   "source": [
    "# analytical solution :"
   ]
  },
  {
   "cell_type": "markdown",
   "metadata": {},
   "source": [
    "given the following differential equation : \n",
    "\n",
    "$$\\frac{dy}{dt} = y(t^2-1.1)$$\n",
    "\n",
    "with the time domain as [0, 4] and the initial condition as $y(0) = 1$"
   ]
  },
  {
   "cell_type": "markdown",
   "metadata": {},
   "source": [
    "for the analytical solution we can use the method of seperation of variables to transform the IVP to the following form :\n",
    "\n",
    "$$\\int_{1}^{f(t)} \\frac{dy}{y} = \\int_{0}^{t}(t^2-1.1)dt$$\n",
    "\n",
    "$$ ln(f(t)) - ln(1) = \\frac{t^3}{3} - 1.1t \\rightarrow y = f(t) = e^{\\frac{t^3}{3} - 1.1t}$$"
   ]
  },
  {
   "cell_type": "code",
   "execution_count": 1,
   "metadata": {},
   "outputs": [
    {
     "data": {
      "text/plain": [
       "[<matplotlib.lines.Line2D at 0x7fb1c0967250>]"
      ]
     },
     "execution_count": 1,
     "metadata": {},
     "output_type": "execute_result"
    },
    {
     "data": {
      "image/png": "[encoded data removed]",
      "text/plain": [
       "<Figure size 432x288 with 1 Axes>"
      ]
     },
     "metadata": {
      "needs_background": "light"
     },
     "output_type": "display_data"
    }
   ],
   "source": [
    "import numpy as np\n",
    "import matplotlib.pyplot as plt\n",
    "\n",
    "t = np.linspace(0,4,10000)\n",
    "\n",
    "def f(t):\n",
    "    a = (t**3)/3\n",
    "    b = (1.1 * t)\n",
    "    return np.exp(a-b)\n",
    "\n",
    "\n",
    "plt.ylabel('y(t)')\n",
    "plt.xlabel('t')\n",
    "plt.plot(t,f(t),'r',label='analytical')"
   ]
  },
  {
   "cell_type": "markdown",
   "metadata": {},
   "source": [
    "# Euler Method :"
   ]
  },
  {
   "cell_type": "code",
   "execution_count": 2,
   "metadata": {},
   "outputs": [],
   "source": [
    "from ode import forward_euler, RK4"
   ]
  },
  {
   "cell_type": "code",
   "execution_count": 3,
   "metadata": {},
   "outputs": [],
   "source": [
    "def func_one(t,y):\n",
    "    return y*((t**2)-1.1)\n",
    "\n",
    "solver = forward_euler(0.25, 0, 4, 1, func_one)\n",
    "\n",
    "t1, y1 = solver.solve()"
   ]
  },
  {
   "cell_type": "code",
   "execution_count": 4,
   "metadata": {},
   "outputs": [
    {
     "name": "stdout",
     "output_type": "stream",
     "text": [
      "0.0 - 1.0\n",
      "\n",
      "0.25 - 0.725\n",
      "\n",
      "0.5 - 0.5369531249999999\n",
      "\n",
      "0.75 - 0.4228505859374999\n",
      "\n",
      "1.0 - 0.3660300384521483\n",
      "\n",
      "1.25 - 0.35687928749084463\n",
      "\n",
      "1.5 - 0.3981434551069735\n",
      "\n",
      "1.75 - 0.5126096984502284\n",
      "\n",
      "2.0 - 0.7641088317523717\n",
      "\n",
      "2.25 - 1.318087734772841\n",
      "\n",
      "2.5 - 2.6238183970321867\n",
      "\n",
      "2.75 - 6.001984583211128\n",
      "\n",
      "3.0 - 15.698940925461606\n",
      "\n",
      "3.25 - 46.70434925324828\n",
      "\n",
      "3.5 - 157.18932545546375\n",
      "\n",
      "3.75 - 595.354570162569\n",
      "\n",
      "4.0 - 2524.675474095644\n",
      "\n"
     ]
    }
   ],
   "source": [
    "for i in range(len(t1)):\n",
    "    print(f\"{t1[i]} - {y1[i]}\\n\")"
   ]
  },
  {
   "cell_type": "code",
   "execution_count": 5,
   "metadata": {},
   "outputs": [
    {
     "data": {
      "text/plain": [
       "[<matplotlib.lines.Line2D at 0x7fb1c0ab5070>]"
      ]
     },
     "execution_count": 5,
     "metadata": {},
     "output_type": "execute_result"
    },
    {
     "data": {
      "image/png": "[encoded data removed]",
      "text/plain": [
       "<Figure size 432x288 with 1 Axes>"
      ]
     },
     "metadata": {
      "needs_background": "light"
     },
     "output_type": "display_data"
    }
   ],
   "source": [
    "plt.ylabel('y(t)')\n",
    "plt.xlabel('t')\n",
    "plt.plot(t1,y1,'r',label='euler_scheme, h=0.25')"
   ]
  },
  {
   "cell_type": "code",
   "execution_count": 6,
   "metadata": {},
   "outputs": [],
   "source": [
    "solver = forward_euler(0.125, 0, 4, 1, func_one)\n",
    "\n",
    "t2, y2 = solver.solve()"
   ]
  },
  {
   "cell_type": "code",
   "execution_count": 7,
   "metadata": {},
   "outputs": [
    {
     "name": "stdout",
     "output_type": "stream",
     "text": [
      "0.0 - 1.0\n",
      "\n",
      "0.125 - 0.8625\n",
      "\n",
      "0.25 - 0.7455908203125\n",
      "\n",
      "0.375 - 0.6488970108032227\n",
      "\n",
      "0.5 - 0.571080064585805\n",
      "\n",
      "0.625 - 0.5104028077235632\n",
      "\n",
      "0.75 - 0.46514443375745035\n",
      "\n",
      "0.875 - 0.43389254211437167\n",
      "\n",
      "1.0 - 0.41575718976818504\n",
      "\n",
      "1.125 - 0.41056022489608274\n",
      "\n",
      "1.25 - 0.41906010455213444\n",
      "\n",
      "1.375 - 0.4432870168465547\n",
      "\n",
      "1.5 - 0.4870962415583431\n",
      "\n",
      "1.625 - 0.5571163262823549\n",
      "\n",
      "1.75 - 0.6644047438046989\n",
      "\n",
      "1.875 - 0.8273915325192891\n",
      "\n",
      "2.0 - 1.0772249913620275\n",
      "\n"
     ]
    }
   ],
   "source": [
    "for i in range(len(t1)):\n",
    "    print(f\"{t2[i]} - {y2[i]}\\n\")"
   ]
  },
  {
   "cell_type": "code",
   "execution_count": 8,
   "metadata": {},
   "outputs": [
    {
     "data": {
      "text/plain": [
       "[<matplotlib.lines.Line2D at 0x7fb1c0bffdf0>]"
      ]
     },
     "execution_count": 8,
     "metadata": {},
     "output_type": "execute_result"
    },
    {
     "data": {
      "image/png": "[encoded data removed]",
      "text/plain": [
       "<Figure size 432x288 with 1 Axes>"
      ]
     },
     "metadata": {
      "needs_background": "light"
     },
     "output_type": "display_data"
    }
   ],
   "source": [
    "plt.ylabel('y(t)')\n",
    "plt.xlabel('t')\n",
    "plt.plot(t2, y2,'r',label='euler_scheme, h=0.125')"
   ]
  },
  {
   "cell_type": "markdown",
   "metadata": {},
   "source": [
    "# RK Method :"
   ]
  },
  {
   "cell_type": "code",
   "execution_count": 9,
   "metadata": {},
   "outputs": [],
   "source": [
    "solver = RK4(func_one)\n",
    "\n",
    "t3, y3 = solver.solve([1],0.25,4)"
   ]
  },
  {
   "cell_type": "code",
   "execution_count": 10,
   "metadata": {},
   "outputs": [
    {
     "data": {
      "text/plain": [
       "[0,\n",
       " 0.25,\n",
       " 0.5,\n",
       " 0.75,\n",
       " 1.0,\n",
       " 1.25,\n",
       " 1.5,\n",
       " 1.75,\n",
       " 2.0,\n",
       " 2.25,\n",
       " 2.5,\n",
       " 2.75,\n",
       " 3.0,\n",
       " 3.25,\n",
       " 3.5,\n",
       " 3.75]"
      ]
     },
     "execution_count": 10,
     "metadata": {},
     "output_type": "execute_result"
    }
   ],
   "source": [
    "t3"
   ]
  },
  {
   "cell_type": "code",
   "execution_count": 11,
   "metadata": {},
   "outputs": [
    {
     "data": {
      "text/plain": [
       "[[0.7391054344468129,\n",
       "  0.5679519517659597,\n",
       "  0.47013683541936074,\n",
       "  0.43184363822152066,\n",
       "  0.45038567726700385,\n",
       "  0.5422594222390369,\n",
       "  0.7622766842269225,\n",
       "  1.2603378196878041,\n",
       "  2.462053708302067,\n",
       "  5.697831422590246,\n",
       "  15.645785235031713,\n",
       "  51.022700713517935,\n",
       "  197.73631639425736,\n",
       "  911.201902173091,\n",
       "  4995.97536610207,\n",
       "  32615.65114943967]]"
      ]
     },
     "execution_count": 11,
     "metadata": {},
     "output_type": "execute_result"
    }
   ],
   "source": [
    "y3"
   ]
  },
  {
   "cell_type": "code",
   "execution_count": 12,
   "metadata": {},
   "outputs": [
    {
     "data": {
      "text/plain": [
       "[<matplotlib.lines.Line2D at 0x7fb1c0cf0340>]"
      ]
     },
     "execution_count": 12,
     "metadata": {},
     "output_type": "execute_result"
    },
    {
     "data": {
      "image/png": "[encoded data removed]",
      "text/plain": [
       "<Figure size 432x288 with 1 Axes>"
      ]
     },
     "metadata": {
      "needs_background": "light"
     },
     "output_type": "display_data"
    }
   ],
   "source": [
    "plt.ylabel('y(t)')\n",
    "plt.xlabel('t')\n",
    "plt.plot(t3,y3[0],'r',label='runge-kutta')"
   ]
  },
  {
   "cell_type": "code",
   "execution_count": 13,
   "metadata": {},
   "outputs": [],
   "source": [
    "def irk4(f,t,y0):\n",
    "    \n",
    "    N = len(t)\n",
    "    h = t[1]-t[0]\n",
    "   \n",
    "    \n",
    "    y = np.zeros(N+1)\n",
    "    y[0] = y0\n",
    "\n",
    "    k1 = 0\n",
    "    k2 = 0\n",
    "\n",
    "\n",
    "    for n in range(1,N+1):    \n",
    "        k1 = f(t[n-1]+(0.5+np.sqrt(3)/6)*h,y[n-1]+1/4*k1+(1/4+np.sqrt(3)/6)*h*k2)\n",
    "        k2 = f(t[n-1]+(0.5-np.sqrt(3)/6)*h,y[n-1]+1/4*k2+(1/4-np.sqrt(3)/6)*h*k1);\n",
    "        y[n] = y[n-1]+(h/2)*(k1+k2);\n",
    "\n",
    "    return t, y\n",
    "\n",
    "\n",
    "t4, y4 = irk4(func_one,t1,1)"
   ]
  },
  {
   "cell_type": "code",
   "execution_count": 14,
   "metadata": {},
   "outputs": [
    {
     "data": {
      "text/plain": [
       "array([0.  , 0.25, 0.5 , 0.75, 1.  , 1.25, 1.5 , 1.75, 2.  , 2.25, 2.5 ,\n",
       "       2.75, 3.  , 3.25, 3.5 , 3.75, 4.  ])"
      ]
     },
     "execution_count": 14,
     "metadata": {},
     "output_type": "execute_result"
    }
   ],
   "source": [
    "t4"
   ]
  },
  {
   "cell_type": "code",
   "execution_count": 15,
   "metadata": {},
   "outputs": [
    {
     "data": {
      "text/plain": [
       "array([1.00000000e+00, 7.28801193e-01, 6.36173639e-01, 5.45419693e-01,\n",
       "       5.09805789e-01, 5.29524382e-01, 6.39387870e-01, 9.37864430e-01,\n",
       "       1.72250849e+00, 3.99057673e+00, 1.15269228e+01, 4.06988763e+01,\n",
       "       1.72122890e+02, 8.56399686e+02, 4.93608814e+03, 3.25197791e+04,\n",
       "       2.42027348e+05, 2.01359158e+06])"
      ]
     },
     "execution_count": 15,
     "metadata": {},
     "output_type": "execute_result"
    }
   ],
   "source": [
    "y4"
   ]
  },
  {
   "cell_type": "code",
   "execution_count": 16,
   "metadata": {},
   "outputs": [
    {
     "data": {
      "text/plain": [
       "[<matplotlib.lines.Line2D at 0x7fb1c0df4190>]"
      ]
     },
     "execution_count": 16,
     "metadata": {},
     "output_type": "execute_result"
    },
    {
     "data": {
      "image/png": "[encoded data removed]",
      "text/plain": [
       "<Figure size 432x288 with 1 Axes>"
      ]
     },
     "metadata": {
      "needs_background": "light"
     },
     "output_type": "display_data"
    }
   ],
   "source": [
    "plt.ylabel('y(t)')\n",
    "plt.xlabel('t')\n",
    "plt.plot(t4,y4[:-1],'r',label='runge-kutta')"
   ]
  },
  {
   "cell_type": "markdown",
   "metadata": {},
   "source": [
    "# combined plot :"
   ]
  },
  {
   "cell_type": "code",
   "execution_count": 17,
   "metadata": {
    "scrolled": false
   },
   "outputs": [
    {
     "data": {
      "text/plain": [
       "<matplotlib.legend.Legend at 0x7fb1c0ecc7c0>"
      ]
     },
     "execution_count": 17,
     "metadata": {},
     "output_type": "execute_result"
    },
    {
     "data": {
      "image/png": "[encoded data removed]",
      "text/plain": [
       "<Figure size 1440x720 with 1 Axes>"
      ]
     },
     "metadata": {
      "needs_background": "light"
     },
     "output_type": "display_data"
    }
   ],
   "source": [
    "plt.figure(figsize=(20,10))\n",
    "plt.xlabel('t')\n",
    "plt.ylabel('y')\n",
    "\n",
    "plt.yscale('log')\n",
    "plt.xscale('log')\n",
    "\n",
    "plt.plot(t, f(t), label='analytical')\n",
    "plt.plot(t1, y1,label='euler - 0.25')\n",
    "plt.plot(t2, y2,label='euler - 0.125')\n",
    "plt.plot(t3, y3[0], label='rk - 0.25')\n",
    "plt.plot(t4, y4[:-1], label='irk - 0.25')\n",
    "\n",
    "plt.legend()"
   ]
  },
  {
   "cell_type": "markdown",
   "metadata": {},
   "source": [
    "as we can see clearly from the figure the forward euler scheme for both steps 0.25 and 0.125 do not perform well and give the max error"
   ]
  },
  {
   "cell_type": "markdown",
   "metadata": {},
   "source": [
    "the best approximation to the analytical solution is given by the implicit two stage runge-kutta method and the second best is the runge kutta fourth order method."
   ]
  }
 ],
 "metadata": {
  "kernelspec": {
   "display_name": "Python 3",
   "language": "python",
   "name": "python3"
  },
  "language_info": {
   "codemirror_mode": {
    "name": "ipython",
    "version": 3
   },
   "file_extension": ".py",
   "mimetype": "text/x-python",
   "name": "python",
   "nbconvert_exporter": "python",
   "pygments_lexer": "ipython3",
   "version": "3.8.5"
  }
 },
 "nbformat": 4,
 "nbformat_minor": 4
}
