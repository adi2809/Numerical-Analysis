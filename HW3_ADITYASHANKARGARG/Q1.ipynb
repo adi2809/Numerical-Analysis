{
 "cells": [
  {
   "cell_type": "markdown",
   "metadata": {},
   "source": [
    "# Q1 :"
   ]
  },
  {
   "cell_type": "markdown",
   "metadata": {},
   "source": [
    "$y_i = f(x_i) + \\epsilon(x_i)$ ; let $f(.)$ be a function that maps the input vector to the true target and then we add a noise. "
   ]
  },
  {
   "cell_type": "markdown",
   "metadata": {},
   "source": [
    "$$f = \\left[f(x_1) , f(x_2), ... , f(x_n)\\right] \\sim N(m(B), c(\\theta)\\Sigma) \\,\\,\\, ...(1)$$"
   ]
  },
  {
   "cell_type": "markdown",
   "metadata": {},
   "source": [
    "$$(y|f) = (\\left[y_1, y_2, ...,y_n\\right]|f) \\sim N(f, \\sigma^2 I) \\,\\,\\, ...(2)$$"
   ]
  },
  {
   "cell_type": "markdown",
   "metadata": {},
   "source": [
    "which means the noise follows a non-zero-mean and independent joint Gaussian distribution. Note that (2) also implies y’s conditional independence of $\\{x_1, x_2, . . . , x_n\\}$ given $f$. For a new instance $x^*$, the goal is to estimate $P(f(x^∗)|x^∗, S = (x_i, f_i)_{i=1}^{i=n})$. We assume K to be invertible."
   ]
  },
  {
   "cell_type": "markdown",
   "metadata": {},
   "source": [
    "For convenience, we denote $f(x^∗)$ as $f^∗$. Following a standard Bayesian approach, we are able to write the following :"
   ]
  },
  {
   "cell_type": "markdown",
   "metadata": {},
   "source": [
    "$$P(f^* | x^*, S) = \\int P(f^*, f|x^*, S) \\,df = \\int P(f^*| f, x^*, S) \\cdot P(f | x^*, S) \\,df  \\,\\,\\, ... (3)$$"
   ]
  },
  {
   "cell_type": "markdown",
   "metadata": {},
   "source": [
    "we need to define a new vector $k = \\left[K(x^*, x_1), ..., K(x^*, x_n)\\right]^{\\top}$ then we can simplify the joint distribution of $[f, f^*]^{\\top} :$"
   ]
  },
  {
   "cell_type": "markdown",
   "metadata": {},
   "source": [
    "$$[f, f^*]^\\top \\sim N(m, [[c\\Sigma, k], [k^\\top, K(x^*, x^*)]]) \\,\\,\\, ... (4)$$"
   ]
  },
  {
   "cell_type": "markdown",
   "metadata": {},
   "source": [
    "$$P(f^* | f) = \\frac{P(f^*, f)}{P(f)}$$"
   ]
  },
  {
   "cell_type": "markdown",
   "metadata": {},
   "source": [
    "$$\\begin{bmatrix} A & b  \\\\ b^\\top & C \\end{bmatrix} = \\begin{bmatrix} c\\Sigma & k  \\\\ k^\\top & K(x^*, x^*) \\end{bmatrix}$$\n"
   ]
  },
  {
   "cell_type": "markdown",
   "metadata": {},
   "source": [
    "$$P(f^* | f) \\propto  exp\\left( -\\frac{1}{2} \\begin{bmatrix} f  \\\\ f^* \\end{bmatrix}^\\top \\begin{bmatrix} A & b  \\\\ b^\\top & C \\end{bmatrix}  \\begin{bmatrix} f  \\\\ f^* \\end{bmatrix} + \\frac{1}{2} f^\\top c^{-1} \\Sigma^{-1} f \\right)$$"
   ]
  },
  {
   "cell_type": "markdown",
   "metadata": {},
   "source": [
    "$$P(f^* | f) \\propto  exp\\left( -\\frac{1}{2}(C{f^*}^2  +2(b^\\top f)f^* + f^\\top A f) + \\frac{1}{2} f^\\top c^{-1} \\Sigma^{-1}f \\right)$$"
   ]
  },
  {
   "cell_type": "markdown",
   "metadata": {},
   "source": [
    "$$P(f^* | f) \\propto  exp\\left( -\\frac{1}{2C^{-1}}\\left( f^* + \\frac{b^\\top f}{C}\\right)^2 \\right) \\, \\, \\, ... (5) $$"
   ]
  },
  {
   "cell_type": "markdown",
   "metadata": {},
   "source": [
    "from the above similarity relation we need to find the value of $b, C$ which come out to be as follows: "
   ]
  },
  {
   "cell_type": "markdown",
   "metadata": {},
   "source": [
    "$$b = -\\frac{c^{-1} \\Sigma^{-1}k}{K(x^*, x^*) -  k^\\top c^{-1} \\Sigma^{-1}k} \\,\\,\\, ... (6)$$\n",
    "\n",
    "$$C = \\frac{1}{K(x^*, x^*) -  k^\\top c^{-1} \\Sigma^{-1}k} \\,\\,\\, ... (7)$$"
   ]
  },
  {
   "cell_type": "markdown",
   "metadata": {},
   "source": [
    "$$(f^* | f) \\sim N \\left(m + k^{\\top}c^{-1}\\Sigma^{-1}f, K(x^*, x^*) - k^\\top c^{-1}\\Sigma^{-1}k \\right) \\,\\,\\, ... (8)$$ "
   ]
  },
  {
   "cell_type": "markdown",
   "metadata": {},
   "source": [
    "similarly we can find out $(f | S)$ using baye's rule and some algebra as follows : \n",
    "\n",
    "$$(f|S) \\sim N(c\\Sigma(c\\Sigma + \\sigma^2 I )^{-1}y, \\sigma^2 c \\Sigma (c \\Sigma + \\sigma^{2} I )^{-1}) \\,\\,\\, ... (9)$$"
   ]
  },
  {
   "cell_type": "markdown",
   "metadata": {},
   "source": [
    "if we define : \n",
    "\n",
    "$$ a = c^{-1} \\Sigma^{-1}k$$\n",
    "\n",
    "\n",
    "$$ b = c\\Sigma (c\\Sigma + \\sigma^2 I)^{-1}y$$\n",
    "\n",
    "\n",
    "$$ \\Sigma' = c\\sigma^2 \\Sigma (c\\Sigma + \\sigma^2 I )^{-1}$$\n",
    "\n",
    "\n",
    "$$ \\Delta = K(x^*, x^*) - k^\\top c^{-1} \\Sigma^{-1} k$$\n"
   ]
  },
  {
   "cell_type": "markdown",
   "metadata": {},
   "source": [
    "integrate all the params out we get after integrating out all parameters using independence as given in the problem: "
   ]
  },
  {
   "cell_type": "markdown",
   "metadata": {},
   "source": [
    "$$(f^∗|x^∗, S) ∼ N( m + k^\\top (c\\Sigma + \\sigma^2I)^{-1}, K(x^∗, x^∗) − k^\\top (c \\Sigma + \\sigma^2 I)^{−1}k)$$"
   ]
  }
 ],
 "metadata": {
  "kernelspec": {
   "display_name": "Python 3",
   "language": "python",
   "name": "python3"
  },
  "language_info": {
   "codemirror_mode": {
    "name": "ipython",
    "version": 3
   },
   "file_extension": ".py",
   "mimetype": "text/x-python",
   "name": "python",
   "nbconvert_exporter": "python",
   "pygments_lexer": "ipython3",
   "version": "3.8.5"
  }
 },
 "nbformat": 4,
 "nbformat_minor": 4
}
