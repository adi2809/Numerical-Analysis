{
 "cells": [
  {
   "cell_type": "markdown",
   "metadata": {},
   "source": [
    "make the following substitutions : \n",
    "\n",
    "$$x_1 = x$$\n",
    "$$x_2 = x'$$\n",
    "\n",
    "\n",
    "the linear system can be formulated as :\n",
    "\n",
    "$$x_1' = x_2$$\n",
    "$$x_2' = - 5x_1 x_2 - (x_1 +7) sin(\\omega t )$$"
   ]
  },
  {
   "cell_type": "code",
   "execution_count": 1,
   "metadata": {},
   "outputs": [],
   "source": [
    "import numpy as np \n",
    "from math import sin\n",
    "def f(t ,x):\n",
    "    \n",
    "   \n",
    "    \n",
    "    return np.array([x[0][1], -((5*x[0][1]*x[0][0]) + ((x[0][0]+7)*sin(t)))]).reshape(1,2)\n",
    "\n",
    "\n",
    "\n",
    "def euler(f, a, b, n, ya):\n",
    "    \"\"\"\n",
    "    Calculate the solution of the initial-value problem from Euler method\n",
    "    Parameters:\n",
    "        f: Function f(x)\n",
    "        a: Initial point\n",
    "        b: End point\n",
    "        n: Number of intervals\n",
    "        ya: Initial value\n",
    "    Returns:\n",
    "        vx: Array containing x values\n",
    "        vy: Array containing y values (solution of IVP)\n",
    "    \"\"\"\n",
    "\n",
    "    vx = np.zeros(n)\n",
    "    vy = np.zeros((n,2))\n",
    "\n",
    "    h = (b - a) / n\n",
    "    x = a\n",
    "    y = ya\n",
    "\n",
    "    vx[0] = x\n",
    "    vy[0] = y\n",
    "\n",
    "    fxy = f(x, y)\n",
    "   \n",
    "    print(\"i: {:03d}\\t t: {:.6f}\\t x: {:.6f}\\t x': {:.6f} \\n\".format(0, x, y[0][0], y[0][1]), end=\"\")\n",
    "\n",
    "    for i in range(0, n):\n",
    "        \n",
    "        x = a + (i + 1) * h\n",
    "        y = (y+ (h * fxy)).reshape((1,2))\n",
    "        \n",
    "        \n",
    "        \n",
    "        fxy = f(x, y)\n",
    "        print(\"i: {:03d}\\t t: {:.6f}\\t x: {:.6f}\\t x': {:.6f} \\n\".format(i + 1, x, y[0][0], y[0][1]), end=\"\")\n",
    "        vx[i] = x\n",
    "        vy[i] = y\n",
    "        \n",
    "\n",
    "    return [vx, vy]"
   ]
  },
  {
   "cell_type": "code",
   "execution_count": 2,
   "metadata": {},
   "outputs": [
    {
     "name": "stdout",
     "output_type": "stream",
     "text": [
      "i: 000\t t: 1.000000\t x: 3.000000\t x': 1.000000 \n",
      "i: 001\t t: 1.093333\t x: 3.093333\t x': -1.185373 \n",
      "i: 002\t t: 1.186667\t x: 2.982699\t x': -0.310911 \n",
      "i: 003\t t: 1.280000\t x: 2.953680\t x': -0.741965 \n",
      "i: 004\t t: 1.373333\t x: 2.884430\t x': -0.609259 \n",
      "i: 005\t t: 1.466667\t x: 2.827566\t x': -0.693775 \n",
      "i: 006\t t: 1.560000\t x: 2.762814\t x': -0.690589 \n",
      "i: 007\t t: 1.653333\t x: 2.698359\t x': -0.711347 \n",
      "i: 008\t t: 1.746667\t x: 2.631966\t x': -0.717693 \n",
      "i: 009\t t: 1.840000\t x: 2.564982\t x': -0.721302 \n",
      "i: 010\t t: 1.933333\t x: 2.497660\t x': -0.718488 \n",
      "i: 011\t t: 2.026667\t x: 2.430601\t x': -0.709866 \n",
      "i: 012\t t: 2.120000\t x: 2.364347\t x': -0.694982 \n",
      "i: 013\t t: 2.213333\t x: 2.299482\t x': -0.673640 \n",
      "i: 014\t t: 2.306667\t x: 2.236609\t x': -0.645626 \n",
      "i: 015\t t: 2.400000\t x: 2.176351\t x': -0.610770 \n",
      "i: 016\t t: 2.493333\t x: 2.119345\t x': -0.568960 \n",
      "i: 017\t t: 2.586667\t x: 2.066242\t x': -0.520160 \n",
      "i: 018\t t: 2.680000\t x: 2.017694\t x': -0.464435 \n",
      "i: 019\t t: 2.773333\t x: 1.974347\t x': -0.401978 \n",
      "i: 020\t t: 2.866667\t x: 1.936829\t x': -0.333142 \n",
      "i: 021\t t: 2.960000\t x: 1.905736\t x': -0.258469 \n",
      "i: 022\t t: 3.053333\t x: 1.881612\t x': -0.178713 \n",
      "i: 023\t t: 3.146667\t x: 1.864932\t x': -0.094855 \n",
      "i: 024\t t: 3.240000\t x: 1.856079\t x': -0.008104 \n",
      "i: 025\t t: 3.333333\t x: 1.855322\t x': 0.080124 \n",
      "i: 026\t t: 3.426667\t x: 1.862801\t x': 0.168255 \n",
      "i: 027\t t: 3.520000\t x: 1.878505\t x': 0.254620 \n",
      "i: 028\t t: 3.613333\t x: 1.902269\t x': 0.337552 \n",
      "i: 029\t t: 3.706667\t x: 1.933774\t x': 0.415481 \n",
      "i: 030\t t: 3.800000\t x: 1.972552\t x': 0.487031 \n",
      "i: 031\t t: 3.893333\t x: 2.018009\t x': 0.551100 \n",
      "i: 032\t t: 3.986667\t x: 2.069445\t x': 0.606902 \n",
      "i: 033\t t: 4.080000\t x: 2.126089\t x': 0.653977 \n",
      "i: 034\t t: 4.173333\t x: 2.187127\t x': 0.692169 \n",
      "i: 035\t t: 4.266667\t x: 2.251729\t x': 0.721572 \n",
      "i: 036\t t: 4.360000\t x: 2.319076\t x': 0.742470 \n",
      "i: 037\t t: 4.453333\t x: 2.388373\t x': 0.755276 \n",
      "i: 038\t t: 4.546667\t x: 2.458865\t x': 0.760475 \n",
      "i: 039\t t: 4.640000\t x: 2.529843\t x': 0.758585 \n",
      "i: 040\t t: 4.733333\t x: 2.600644\t x': 0.750127 \n",
      "i: 041\t t: 4.826667\t x: 2.670656\t x': 0.735611 \n",
      "i: 042\t t: 4.920000\t x: 2.739313\t x': 0.715522 \n",
      "i: 043\t t: 5.013333\t x: 2.806095\t x': 0.690320 \n",
      "i: 044\t t: 5.106667\t x: 2.870525\t x': 0.660440 \n",
      "i: 045\t t: 5.200000\t x: 2.932166\t x': 0.626294 \n",
      "i: 046\t t: 5.293333\t x: 2.990620\t x': 0.588273 \n",
      "i: 047\t t: 5.386667\t x: 3.045526\t x': 0.546749 \n",
      "i: 048\t t: 5.480000\t x: 3.096556\t x': 0.502085 \n",
      "i: 049\t t: 5.573333\t x: 3.143417\t x': 0.454628 \n",
      "i: 050\t t: 5.666667\t x: 3.185849\t x': 0.404719 \n",
      "i: 051\t t: 5.760000\t x: 3.223623\t x': 0.352692 \n",
      "i: 052\t t: 5.853333\t x: 3.256540\t x': 0.298878 \n",
      "i: 053\t t: 5.946667\t x: 3.284436\t x': 0.243600 \n",
      "i: 054\t t: 6.040000\t x: 3.307172\t x': 0.187181 \n",
      "i: 055\t t: 6.133333\t x: 3.324642\t x': 0.129942 \n",
      "i: 056\t t: 6.226667\t x: 3.336770\t x': 0.072200 \n",
      "i: 057\t t: 6.320000\t x: 3.343508\t x': 0.014271 \n",
      "i: 058\t t: 6.413333\t x: 3.344840\t x': -0.043529 \n",
      "i: 059\t t: 6.506667\t x: 3.340778\t x': -0.100889 \n",
      "i: 060\t t: 6.600000\t x: 3.331361\t x': -0.157500 \n",
      "i: 061\t t: 6.693333\t x: 3.316661\t x': -0.213052 \n",
      "i: 062\t t: 6.786667\t x: 3.296777\t x': -0.267242 \n",
      "i: 063\t t: 6.880000\t x: 3.271834\t x': -0.319768 \n",
      "i: 064\t t: 6.973333\t x: 3.241989\t x': -0.370331 \n",
      "i: 065\t t: 7.066667\t x: 3.207425\t x': -0.418634 \n",
      "i: 066\t t: 7.160000\t x: 3.168352\t x': -0.464386 \n",
      "i: 067\t t: 7.253333\t x: 3.125010\t x': -0.507298 \n",
      "i: 068\t t: 7.346667\t x: 3.077662\t x': -0.547083 \n",
      "i: 069\t t: 7.440000\t x: 3.026601\t x': -0.583457 \n",
      "i: 070\t t: 7.533333\t x: 2.972145\t x': -0.616139 \n",
      "i: 071\t t: 7.626667\t x: 2.914638\t x': -0.644849 \n",
      "i: 072\t t: 7.720000\t x: 2.854452\t x': -0.669309 \n",
      "i: 073\t t: 7.813333\t x: 2.791984\t x': -0.689243 \n",
      "i: 074\t t: 7.906667\t x: 2.727654\t x': -0.704374 \n",
      "i: 075\t t: 8.000000\t x: 2.661913\t x': -0.714427 \n",
      "i: 076\t t: 8.093333\t x: 2.595233\t x': -0.719129 \n",
      "i: 077\t t: 8.186667\t x: 2.528114\t x': -0.718210 \n",
      "i: 078\t t: 8.280000\t x: 2.461081\t x': -0.711405 \n",
      "i: 079\t t: 8.373333\t x: 2.394683\t x': -0.698460 \n",
      "i: 080\t t: 8.466667\t x: 2.329494\t x': -0.679136 \n",
      "i: 081\t t: 8.560000\t x: 2.266108\t x': -0.653218 \n",
      "i: 082\t t: 8.653333\t x: 2.205141\t x': -0.620527 \n",
      "i: 083\t t: 8.746667\t x: 2.147225\t x': -0.580937 \n",
      "i: 084\t t: 8.840000\t x: 2.093004\t x': -0.534388 \n",
      "i: 085\t t: 8.933333\t x: 2.043128\t x': -0.480916 \n",
      "i: 086\t t: 9.026667\t x: 1.998242\t x': -0.420678 \n",
      "i: 087\t t: 9.120000\t x: 1.958979\t x': -0.353976 \n",
      "i: 088\t t: 9.213333\t x: 1.925941\t x': -0.281294 \n",
      "i: 089\t t: 9.306667\t x: 1.899687\t x': -0.203317 \n",
      "i: 090\t t: 9.400000\t x: 1.880711\t x': -0.120952 \n",
      "i: 091\t t: 9.493333\t x: 1.869422\t x': -0.035332 \n",
      "i: 092\t t: 9.586667\t x: 1.866124\t x': 0.052198 \n",
      "i: 093\t t: 9.680000\t x: 1.870996\t x': 0.140120 \n",
      "i: 094\t t: 9.773333\t x: 1.884074\t x': 0.226804 \n",
      "i: 095\t t: 9.866667\t x: 1.905242\t x': 0.310589 \n",
      "i: 096\t t: 9.960000\t x: 1.934231\t x': 0.389882 \n",
      "i: 097\t t: 10.053333\t x: 1.970620\t x': 0.463255 \n",
      "i: 098\t t: 10.146667\t x: 2.013857\t x': 0.529523 \n",
      "i: 099\t t: 10.240000\t x: 2.063279\t x': 0.587807 \n",
      "i: 100\t t: 10.333333\t x: 2.118141\t x': 0.637545 \n",
      "i: 101\t t: 10.426667\t x: 2.177645\t x': 0.678487 \n",
      "i: 102\t t: 10.520000\t x: 2.240971\t x': 0.710645 \n",
      "i: 103\t t: 10.613333\t x: 2.307298\t x': 0.734242 \n",
      "i: 104\t t: 10.706667\t x: 2.375827\t x': 0.749644 \n",
      "i: 105\t t: 10.800000\t x: 2.445794\t x': 0.757309 \n",
      "i: 106\t t: 10.893333\t x: 2.516476\t x': 0.757740 \n",
      "i: 107\t t: 10.986667\t x: 2.587198\t x': 0.751450 \n",
      "i: 108\t t: 11.080000\t x: 2.657334\t x': 0.738950 \n",
      "i: 109\t t: 11.173333\t x: 2.726302\t x': 0.720727 \n",
      "i: 110\t t: 11.266667\t x: 2.793570\t x': 0.697248 \n",
      "i: 111\t t: 11.360000\t x: 2.858647\t x': 0.668953 \n",
      "i: 112\t t: 11.453333\t x: 2.921082\t x': 0.636260 \n",
      "i: 113\t t: 11.546667\t x: 2.980466\t x': 0.599563 \n",
      "i: 114\t t: 11.640000\t x: 3.036426\t x': 0.559243 \n",
      "i: 115\t t: 11.733333\t x: 3.088622\t x': 0.515663 \n",
      "i: 116\t t: 11.826667\t x: 3.136750\t x': 0.469175 \n",
      "i: 117\t t: 11.920000\t x: 3.180540\t x': 0.420123 \n",
      "i: 118\t t: 12.013333\t x: 3.219751\t x': 0.368844 \n",
      "i: 119\t t: 12.106667\t x: 3.254177\t x': 0.315667 \n",
      "i: 120\t t: 12.200000\t x: 3.283639\t x': 0.260920 \n",
      "i: 121\t t: 12.293333\t x: 3.307992\t x': 0.204926 \n",
      "i: 122\t t: 12.386667\t x: 3.327118\t x': 0.148007 \n",
      "i: 123\t t: 12.480000\t x: 3.340932\t x': 0.090482 \n",
      "i: 124\t t: 12.573333\t x: 3.349377\t x': 0.032668 \n",
      "i: 125\t t: 12.666667\t x: 3.352426\t x': -0.025119 \n",
      "i: 126\t t: 12.760000\t x: 3.350082\t x': -0.082567 \n",
      "i: 127\t t: 12.853333\t x: 3.342375\t x': -0.139365 \n",
      "i: 128\t t: 12.946667\t x: 3.329368\t x': -0.195203 \n",
      "i: 129\t t: 13.040000\t x: 3.311149\t x': -0.249775 \n",
      "i: 130\t t: 13.133333\t x: 3.287837\t x': -0.302779 \n",
      "i: 131\t t: 13.226667\t x: 3.259577\t x': -0.353914 \n",
      "i: 132\t t: 13.320000\t x: 3.226545\t x': -0.402883 \n",
      "i: 133\t t: 13.413333\t x: 3.188943\t x': -0.449393 \n",
      "i: 134\t t: 13.506667\t x: 3.147000\t x': -0.493152 \n",
      "i: 135\t t: 13.600000\t x: 3.100972\t x': -0.533875 \n",
      "i: 136\t t: 13.693333\t x: 3.051144\t x': -0.571275 \n",
      "i: 137\t t: 13.786667\t x: 2.997825\t x': -0.605071 \n",
      "i: 138\t t: 13.880000\t x: 2.941351\t x': -0.634983 \n",
      "i: 139\t t: 13.973333\t x: 2.882086\t x': -0.660732 \n",
      "i: 140\t t: 14.066667\t x: 2.820418\t x': -0.682042 \n",
      "i: 141\t t: 14.160000\t x: 2.756761\t x': -0.698637 \n",
      "i: 142\t t: 14.253333\t x: 2.691555\t x': -0.710242 \n",
      "i: 143\t t: 14.346667\t x: 2.625265\t x': -0.716585 \n",
      "i: 144\t t: 14.440000\t x: 2.558384\t x': -0.717395 \n",
      "i: 145\t t: 14.533333\t x: 2.491427\t x': -0.712409 \n",
      "i: 146\t t: 14.626667\t x: 2.424936\t x': -0.701369 \n",
      "i: 147\t t: 14.720000\t x: 2.359475\t x': -0.684035 \n",
      "i: 148\t t: 14.813333\t x: 2.295631\t x': -0.660186 \n",
      "i: 149\t t: 14.906667\t x: 2.234014\t x': -0.629635 \n",
      "i: 150\t t: 15.000000\t x: 2.175248\t x': -0.592241 \n"
     ]
    }
   ],
   "source": [
    "t, X = euler(f, 1, 15, 150, np.array([3, 1]).reshape((1,2)) )"
   ]
  },
  {
   "cell_type": "code",
   "execution_count": 3,
   "metadata": {},
   "outputs": [],
   "source": [
    "def rk4_system(f, a, b, n, ya):\n",
    "    \"\"\"\n",
    "    Calculate the solution of systems of differential equations from\n",
    "    Runge-Kutta (Order Four) method.\n",
    "    Parameters:\n",
    "        f: Array of functions f(x)\n",
    "        a: Initial point\n",
    "        b: End point\n",
    "        n: Number of intervals\n",
    "        ya: Array of initial values\n",
    "    Returns:\n",
    "        vx: Array containing x values\n",
    "        vy: Array containing y values (solution of IVP)\n",
    "    \"\"\"\n",
    "\n",
    "    m = len(f)\n",
    "\n",
    "    k = [np.zeros(m), np.zeros(m), np.zeros(m), np.zeros(m)]\n",
    "\n",
    "    vx = np.zeros(n + 1)\n",
    "    vy = np.zeros((m, n + 1))\n",
    "\n",
    "    h = (b - a) / n\n",
    "\n",
    "    x = a\n",
    "    y = ya\n",
    "\n",
    "    vx[0] = x\n",
    "    vy[:, 0] = y\n",
    "\n",
    "    for i in range(0, n):\n",
    "\n",
    "        for j in range(0, m):\n",
    "            k[0][j] = h * f[j](x, y)\n",
    "\n",
    "        for j in range(0, m):\n",
    "            k[1][j] = h * f[j](x + h / 2, y + k[0] / 2)\n",
    "\n",
    "        for j in range(0, m):\n",
    "            k[2][j] = h * f[j](x + h / 2, y + k[1] / 2)\n",
    "\n",
    "        for j in range(0, m):\n",
    "            k[3][j] = h * f[j](x + h, y + k[2])\n",
    "\n",
    "        x = a + i * h\n",
    "        y = y + (k[0] + 2 * k[1] + 2 * k[2] + k[3]) / 6\n",
    "\n",
    "        vx[i + 1] = x\n",
    "        vy[:, i + 1] = y\n",
    "\n",
    "    return [vx, vy]"
   ]
  },
  {
   "cell_type": "code",
   "execution_count": 4,
   "metadata": {},
   "outputs": [],
   "source": [
    "f = [lambda x, y : y[1], lambda x, y : -((5*y[1]*y[0]) + ((y[0]+7)*(sin(x))))]"
   ]
  },
  {
   "cell_type": "code",
   "execution_count": 5,
   "metadata": {},
   "outputs": [],
   "source": [
    "t_, X_ = rk4_system(f, 0, 15, 150, np.array([3, 1]))"
   ]
  },
  {
   "cell_type": "code",
   "execution_count": 6,
   "metadata": {},
   "outputs": [
    {
     "data": {
      "text/plain": [
       "(150, 2)"
      ]
     },
     "execution_count": 6,
     "metadata": {},
     "output_type": "execute_result"
    }
   ],
   "source": [
    "X.shape"
   ]
  },
  {
   "cell_type": "code",
   "execution_count": 7,
   "metadata": {},
   "outputs": [
    {
     "data": {
      "text/plain": [
       "(2, 151)"
      ]
     },
     "execution_count": 7,
     "metadata": {},
     "output_type": "execute_result"
    }
   ],
   "source": [
    "X_.shape"
   ]
  },
  {
   "cell_type": "code",
   "execution_count": 8,
   "metadata": {},
   "outputs": [
    {
     "data": {
      "text/plain": [
       "<matplotlib.legend.Legend at 0x7fcf13041fd0>"
      ]
     },
     "execution_count": 8,
     "metadata": {},
     "output_type": "execute_result"
    },
    {
     "data": {
      "image/png": "[encoded data removed]",
      "text/plain": [
       "<Figure size 720x720 with 1 Axes>"
      ]
     },
     "metadata": {
      "needs_background": "light"
     },
     "output_type": "display_data"
    }
   ],
   "source": [
    "import matplotlib.pyplot as plt \n",
    "\n",
    "plt.figure(figsize=(10, 10))\n",
    "\n",
    "plt.plot(t, X[:, 0], label='euler')\n",
    "plt.plot(t_, X_[0, :], label='RK4')\n",
    "\n",
    "plt.legend()"
   ]
  },
  {
   "cell_type": "code",
   "execution_count": null,
   "metadata": {},
   "outputs": [],
   "source": []
  }
 ],
 "metadata": {
  "kernelspec": {
   "display_name": "Python 3",
   "language": "python",
   "name": "python3"
  },
  "language_info": {
   "codemirror_mode": {
    "name": "ipython",
    "version": 3
   },
   "file_extension": ".py",
   "mimetype": "text/x-python",
   "name": "python",
   "nbconvert_exporter": "python",
   "pygments_lexer": "ipython3",
   "version": "3.8.5"
  }
 },
 "nbformat": 4,
 "nbformat_minor": 4
}
